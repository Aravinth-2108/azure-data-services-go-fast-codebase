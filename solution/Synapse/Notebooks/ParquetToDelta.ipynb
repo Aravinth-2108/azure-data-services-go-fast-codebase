{
  "cells": [
    {
      "cell_type": "code",
      "source": [
        "import random\r\n",
        "import json\r\n",
        "from pyspark.sql import Row\r\n",
        "from pyspark.sql.types import *\r\n",
        "from pyspark.sql.functions import *\r\n",
        "session_id = random.randint(0,1000000)\r\n",
        "\r\n",
        "TaskObject = '''    {\r\n",
        "        \"TaskInstanceId\": 20,\r\n",
        "        \"TaskMasterId\": -2,\r\n",
        "        \"TaskStatus\": \"InProgress\",\r\n",
        "        \"TaskType\": \"Azure Storage to SQL Database\",\r\n",
        "        \"Enabled\": 1,\r\n",
        "        \"ExecutionUid\": \"b829721c-f297-49eb-8436-c33e27005971\",\r\n",
        "        \"NumberOfRetries\": 0,\r\n",
        "        \"DegreeOfCopyParallelism\": 1,\r\n",
        "        \"KeyVaultBaseUrl\": \"https://mst-stg-kv-ads-pnu0.vault.azure.net/\",\r\n",
        "        \"ScheduleMasterId\": \"4\",\r\n",
        "        \"TaskGroupConcurrency\": \"10\",\r\n",
        "        \"TaskGroupPriority\": 0,\r\n",
        "        \"TaskExecutionType\": \"ADF\",\r\n",
        "        \"DataFactory\": {\r\n",
        "            \"Id\": 1,\r\n",
        "            \"Name\": \"mst-stg-adf-ads-pnu0\",\r\n",
        "            \"ResourceGroup\": \"adsgftera2\",\r\n",
        "            \"SubscriptionId\": \"035a1364-f00d-48e2-b582-4fe125905ee3\",\r\n",
        "            \"ADFPipeline\": \"GPL_AzureBlobFS_Parquet_AzureSqlTable_NA_Azure\",\r\n",
        "            \"TaskDatafactoryIR\": \"Azure\"\r\n",
        "        },\r\n",
        "        \"Source\": {\r\n",
        "            \"System\": {\r\n",
        "                \"SystemId\": 4,\r\n",
        "                \"SystemServer\": \"https://dlzstgdlsadsylf2adsl.dfs.core.windows.net\",\r\n",
        "                \"AuthenticationType\": \"MSI\",\r\n",
        "                \"Type\": \"ADLS\",\r\n",
        "                \"Username\": null,\r\n",
        "                \"Container\": \"datalakeraw\"\r\n",
        "            },\r\n",
        "            \"Instance\": {\r\n",
        "                \"SourceRelativePath\": \"samples/\"\r\n",
        "            },\r\n",
        "            \"DataFileName\": \"SalesLT.Customer.chunk_1.parquet\",\r\n",
        "            \"SchemaFileName\": \"SalesLT.Customer.json\",\r\n",
        "            \"DeleteAfterCompletion\": \"false\",\r\n",
        "            \"MaxConcurrentConnections\": 0,\r\n",
        "            \"Recursively\": \"false\",\r\n",
        "            \"RelativePath\": \"SampleFiles/\",\r\n",
        "            \"Type\": \"Parquet\"\r\n",
        "        },\r\n",
        "        \"Target\": {\r\n",
        "            \"System\": {\r\n",
        "                \"SystemId\": 4,\r\n",
        "                \"SystemServer\": \"https://dlzstgdlsadsylf2adsl.dfs.core.windows.net\",\r\n",
        "                \"AuthenticationType\": \"MSI\",\r\n",
        "                \"Type\": \"ADLS\",\r\n",
        "                \"Username\": null,\r\n",
        "                \"Container\": \"datalakelanding\"\r\n",
        "            },\r\n",
        "            \"Instance\": {\r\n",
        "                \"SourceRelativePath\": \"samples/\"\r\n",
        "            },\r\n",
        "            \"DataFileName\": \"SalesLT-Customer-Delta\",\r\n",
        "            \"DeleteAfterCompletion\": \"false\",\r\n",
        "            \"MaxConcurrentConnections\": 0,\r\n",
        "            \"Recursively\": \"false\",\r\n",
        "            \"RelativePath\": \"TestOutput/\",\r\n",
        "            \"Type\": \"Delta\"\r\n",
        "        }\r\n",
        "    }'''\r\n"
      ],
      "outputs": [
        {
          "output_type": "display_data",
          "data": {
            "application/vnd.livy.statement-meta+json": {
              "spark_pool": "dlzstgsynspads",
              "session_id": 82,
              "statement_id": 3,
              "state": "finished",
              "livy_statement_state": "available",
              "queued_time": "2022-03-01T20:42:06.9469579Z",
              "session_start_time": null,
              "execution_start_time": "2022-03-01T20:42:07.0596235Z",
              "execution_finish_time": "2022-03-01T20:42:07.2210526Z"
            },
            "text/plain": "StatementMeta(dlzstgsynspads, 82, 3, Finished, Available)"
          },
          "metadata": {}
        }
      ],
      "execution_count": 3,
      "metadata": {}
    },
    {
      "cell_type": "code",
      "source": [
        "TaskObjectJson = json.loads(TaskObject)\r\n",
        "Source = TaskObjectJson['Source']['System']['Container'] + \"@\" + TaskObjectJson['Source']['System']['SystemServer'].replace(\"https://\",\"\") + \"/\"\r\n",
        "Schema = TaskObjectJson['Source']['System']['Container'] + \"@\" + TaskObjectJson['Source']['System']['SystemServer'].replace(\"https://\",\"\") + \"/\"\r\n",
        "Target = TaskObjectJson['Target']['System']['Container'] + \"@\" + TaskObjectJson['Target']['System']['SystemServer'].replace(\"https://\",\"\") + \"/\"\r\n",
        "\r\n",
        "\r\n",
        "Source = Source + TaskObjectJson['Source']['RelativePath'] + \"/\" + TaskObjectJson['Source']['DataFileName']\r\n",
        "Schema = Schema + TaskObjectJson['Source']['RelativePath'] + \"/\" + TaskObjectJson['Source']['SchemaFileName']\r\n",
        "Target = Target + TaskObjectJson['Target']['RelativePath'] + \"/\" + TaskObjectJson['Target']['DataFileName']\r\n",
        "\r\n",
        "\r\n",
        "#remove any double slashes\r\n",
        "Source = Source.replace('//', '/')\r\n",
        "Schema = Schema.replace('//', '/')\r\n",
        "Target = Target.replace('//', '/')\r\n",
        "\r\n",
        "\r\n",
        "#add abfss\r\n",
        "Source = \"abfss://\" + Source\r\n",
        "Schema = \"abfss://\" + Schema\r\n",
        "Target = \"abfss://\" + Target\r\n",
        "\r\n",
        "\r\n",
        "print (\"Source: \" + Source)\r\n",
        "print (\"Schema: \" + Schema)\r\n",
        "print (\"Target: \" + Target)\r\n",
        "\r\n"
      ],
      "outputs": [
        {
          "output_type": "display_data",
          "data": {
            "application/vnd.livy.statement-meta+json": {
              "spark_pool": "dlzstgsynspads",
              "session_id": 82,
              "statement_id": 4,
              "state": "finished",
              "livy_statement_state": "available",
              "queued_time": "2022-03-01T20:42:09.9466632Z",
              "session_start_time": null,
              "execution_start_time": "2022-03-01T20:42:10.0616085Z",
              "execution_finish_time": "2022-03-01T20:42:10.2188104Z"
            },
            "text/plain": "StatementMeta(dlzstgsynspads, 82, 4, Finished, Available)"
          },
          "metadata": {}
        },
        {
          "output_type": "stream",
          "name": "stdout",
          "text": [
            "Source: abfss://datalakeraw@dlzstgdlsadsylf2adsl.dfs.core.windows.net/SampleFiles/SalesLT.Customer.chunk_1.parquet\nSchema: abfss://datalakeraw@dlzstgdlsadsylf2adsl.dfs.core.windows.net/SampleFiles/SalesLT.Customer.json\nTarget: abfss://datalakelanding@dlzstgdlsadsylf2adsl.dfs.core.windows.net/TestOutput/SalesLT-Customer-Delta"
          ]
        }
      ],
      "execution_count": 4,
      "metadata": {
        "jupyter": {
          "source_hidden": false,
          "outputs_hidden": false
        },
        "nteract": {
          "transient": {
            "deleting": false
          }
        }
      }
    },
    {
      "cell_type": "code",
      "source": [
        "#get scheme file ->  this needs to be made dynamic\r\n",
        "schema = spark.read.load(Schema, format='json', multiLine=True)\r\n",
        "#convert it into a list so we can loop it using python rules\r\n",
        "schema = schema.collect()\r\n",
        "#loop through each column to find the primary key column\r\n",
        "for col in schema:\r\n",
        "    if col.PKEY_COLUMN:\r\n",
        "        print(col.COLUMN_NAME)\r\n",
        "        primaryKey = col\r\n",
        "        break\r\n",
        "#set up the merge condition used in the next code block\r\n",
        "mergeCondition = \"oldData.\" + primaryKey.COLUMN_NAME + \" = newData.\" + primaryKey.COLUMN_NAME"
      ],
      "outputs": [
        {
          "output_type": "display_data",
          "data": {
            "application/vnd.livy.statement-meta+json": {
              "spark_pool": "dlzstgsynspads",
              "session_id": 82,
              "statement_id": 5,
              "state": "finished",
              "livy_statement_state": "available",
              "queued_time": "2022-03-01T20:42:15.8040424Z",
              "session_start_time": null,
              "execution_start_time": "2022-03-01T20:42:15.9281891Z",
              "execution_finish_time": "2022-03-01T20:42:29.4180882Z"
            },
            "text/plain": "StatementMeta(dlzstgsynspads, 82, 5, Finished, Available)"
          },
          "metadata": {}
        },
        {
          "output_type": "stream",
          "name": "stdout",
          "text": [
            "CustomerID"
          ]
        }
      ],
      "execution_count": 5,
      "metadata": {
        "jupyter": {
          "source_hidden": false,
          "outputs_hidden": false
        },
        "nteract": {
          "transient": {
            "deleting": false
          }
        }
      }
    },
    {
      "cell_type": "code",
      "source": [
        "from delta.tables import *\r\n",
        "df = spark.read.load(Source, format='parquet')\r\n",
        "\r\n",
        "sql = 'describe detail \"' + Target + '\"'\r\n",
        "try:\r\n",
        "    if (spark.sql(sql).collect()[0].asDict()['format'] == 'delta'):\r\n",
        "        print(\"Table already exists. Performing Merge\")\r\n",
        "        olddt = DeltaTable.forPath(spark, Target)  \r\n",
        "        olddt.alias(\"oldData\").merge(\r\n",
        "            df.alias(\"newData\"),\r\n",
        "            mergeCondition) \\\r\n",
        "        .whenMatchedUpdateAll() \\\r\n",
        "        .whenNotMatchedInsertAll() \\\r\n",
        "        .execute()\r\n",
        "except:\r\n",
        "    print(\"Table does not exist.\")    \r\n",
        "    df.write.format(\"delta\").save(Target)"
      ],
      "outputs": [
        {
          "output_type": "display_data",
          "data": {
            "application/vnd.livy.statement-meta+json": {
              "spark_pool": "dlzstgsynspads",
              "session_id": 77,
              "statement_id": 36,
              "state": "finished",
              "livy_statement_state": "available",
              "queued_time": "2022-02-28T21:54:59.0347829Z",
              "session_start_time": null,
              "execution_start_time": "2022-02-28T21:54:59.2864675Z",
              "execution_finish_time": "2022-02-28T21:55:18.8952766Z"
            },
            "text/plain": "StatementMeta(dlzstgsynspads, 77, 36, Finished, Available)"
          },
          "metadata": {}
        },
        {
          "output_type": "stream",
          "name": "stdout",
          "text": [
            "Table already exists. Performing Merge"
          ]
        }
      ],
      "execution_count": 36,
      "metadata": {
        "jupyter": {
          "source_hidden": false,
          "outputs_hidden": false
        },
        "nteract": {
          "transient": {
            "deleting": false
          }
        }
      }
    },
    {
      "cell_type": "code",
      "source": [
        "olddt.history().show(20, 1000, False)\r\n",
        "#display(spark.read.format(\"delta\").load(Target))\r\n",
        "#spark.sql(\"CREATE TABLE SalesLTCustomer USING DELTA LOCATION '{0}'\".format(TargetFile))"
      ],
      "outputs": [
        {
          "output_type": "display_data",
          "data": {
            "application/vnd.livy.statement-meta+json": {
              "spark_pool": "dlzstgsynspads",
              "session_id": 77,
              "statement_id": 43,
              "state": "finished",
              "livy_statement_state": "available",
              "queued_time": "2022-02-28T22:09:56.2196236Z",
              "session_start_time": null,
              "execution_start_time": "2022-02-28T22:09:56.3467677Z",
              "execution_finish_time": "2022-02-28T22:09:57.433111Z"
            },
            "text/plain": "StatementMeta(dlzstgsynspads, 77, 43, Finished, Available)"
          },
          "metadata": {}
        },
        {
          "output_type": "stream",
          "name": "stdout",
          "text": [
            "+-------+-------------------+------+--------+---------+------------------------------------------------------------+----+--------+---------+-----------+--------------+-------------+--------------------------------------------------------------------------------------------------------------------------------------------------------------------------------------------------------------------+\n|version|          timestamp|userId|userName|operation|                                         operationParameters| job|notebook|clusterId|readVersion|isolationLevel|isBlindAppend|                                                                                                                                                                                                    operationMetrics|\n+-------+-------------------+------+--------+---------+------------------------------------------------------------+----+--------+---------+-----------+--------------+-------------+--------------------------------------------------------------------------------------------------------------------------------------------------------------------------------------------------------------------+\n|      9|2022-02-28 21:55:15|  null|    null|    MERGE|[predicate -> (oldData.`CustomerID` = newData.`CustomerID`)]|null|    null|     null|          8|          null|        false|[numTargetRowsCopied -> 0, numTargetRowsDeleted -> 0, numTargetFilesAdded -> 200, numTargetRowsInserted -> 0, numTargetRowsUpdated -> 847, numOutputRows -> 847, numSourceRows -> 847, numTargetFilesRemoved -> 200]|\n|      8|2022-02-28 21:28:31|  null|    null|    MERGE|[predicate -> (oldData.`CustomerID` = newData.`CustomerID`)]|null|    null|     null|          7|          null|        false|[numTargetRowsCopied -> 0, numTargetRowsDeleted -> 0, numTargetFilesAdded -> 200, numTargetRowsInserted -> 0, numTargetRowsUpdated -> 847, numOutputRows -> 847, numSourceRows -> 847, numTargetFilesRemoved -> 200]|\n|      7|2022-02-28 21:27:36|  null|    null|    MERGE|[predicate -> (oldData.`CustomerID` = newData.`CustomerID`)]|null|    null|     null|          6|          null|        false|[numTargetRowsCopied -> 0, numTargetRowsDeleted -> 0, numTargetFilesAdded -> 200, numTargetRowsInserted -> 0, numTargetRowsUpdated -> 847, numOutputRows -> 847, numSourceRows -> 847, numTargetFilesRemoved -> 200]|\n|      6|2022-02-28 21:25:55|  null|    null|    MERGE|[predicate -> (oldData.`CustomerID` = newData.`CustomerID`)]|null|    null|     null|          5|          null|        false|[numTargetRowsCopied -> 0, numTargetRowsDeleted -> 0, numTargetFilesAdded -> 200, numTargetRowsInserted -> 0, numTargetRowsUpdated -> 847, numOutputRows -> 847, numSourceRows -> 847, numTargetFilesRemoved -> 200]|\n|      5|2022-02-28 06:23:16|  null|    null|    MERGE|[predicate -> (newData.`CustomerID` = oldData.`CustomerID`)]|null|    null|     null|          4|          null|        false|[numTargetRowsCopied -> 0, numTargetRowsDeleted -> 0, numTargetFilesAdded -> 200, numTargetRowsInserted -> 0, numTargetRowsUpdated -> 847, numOutputRows -> 847, numSourceRows -> 847, numTargetFilesRemoved -> 200]|\n|      4|2022-02-28 06:13:43|  null|    null|    MERGE|[predicate -> (oldData.`CustomerID` = newData.`CustomerID`)]|null|    null|     null|          3|          null|        false|[numTargetRowsCopied -> 0, numTargetRowsDeleted -> 0, numTargetFilesAdded -> 200, numTargetRowsInserted -> 0, numTargetRowsUpdated -> 847, numOutputRows -> 847, numSourceRows -> 847, numTargetFilesRemoved -> 200]|\n|      3|2022-02-28 03:39:06|  null|    null|    MERGE|[predicate -> (oldData.`CustomerID` = newData.`CustomerID`)]|null|    null|     null|          2|          null|        false|[numTargetRowsCopied -> 0, numTargetRowsDeleted -> 0, numTargetFilesAdded -> 200, numTargetRowsInserted -> 0, numTargetRowsUpdated -> 847, numOutputRows -> 847, numSourceRows -> 847, numTargetFilesRemoved -> 200]|\n|      2|2022-02-28 03:38:09|  null|    null|    MERGE|[predicate -> (newData.`CustomerID` = oldData.`CustomerID`)]|null|    null|     null|          1|          null|        false|[numTargetRowsCopied -> 0, numTargetRowsDeleted -> 0, numTargetFilesAdded -> 200, numTargetRowsInserted -> 0, numTargetRowsUpdated -> 847, numOutputRows -> 847, numSourceRows -> 847, numTargetFilesRemoved -> 200]|\n|      1|2022-02-28 03:34:06|  null|    null|    MERGE|[predicate -> (oldData.`CustomerID` = newData.`CustomerID`)]|null|    null|     null|          0|          null|        false|  [numTargetRowsCopied -> 0, numTargetRowsDeleted -> 0, numTargetFilesAdded -> 200, numTargetRowsInserted -> 0, numTargetRowsUpdated -> 847, numOutputRows -> 847, numSourceRows -> 847, numTargetFilesRemoved -> 1]|\n|      0|2022-02-28 03:33:05|  null|    null|    WRITE|                  [mode -> ErrorIfExists, partitionBy -> []]|null|    null|     null|       null|          null|         true|                                                                                                                                                      [numFiles -> 1, numOutputBytes -> 89560, numOutputRows -> 847]|\n+-------+-------------------+------+--------+---------+------------------------------------------------------------+----+--------+---------+-----------+--------------+-------------+--------------------------------------------------------------------------------------------------------------------------------------------------------------------------------------------------------------------+"
          ]
        }
      ],
      "execution_count": 43,
      "metadata": {
        "jupyter": {
          "source_hidden": false,
          "outputs_hidden": false
        },
        "nteract": {
          "transient": {
            "deleting": false
          }
        },
        "collapsed": false
      }
    },
    {
      "cell_type": "code",
      "source": [
        "## Execute Upsert\r\n",
        "#(old_deltaTable\r\n",
        "# .alias(\"oldData\") \r\n",
        "# .merge(newIncrementalData.alias(\"newData\"), \"oldData.id = newData.id\")\r\n",
        "# .whenMatchedUpdate(set = {\"name\": col(\"newData.name\")})\r\n",
        "# .whenNotMatchedInsert(values = {\"id\": col(\"newData.id\"), \"name\":\r\n",
        "#                                col(\"newData.name\")})\r\n",
        "# .execute()\r\n",
        "#)\r\n",
        "#\r\n",
        "# Display the records to check if the records are Merged\r\n",
        "#display(spark.read.format(\"delta\").load(Target))"
      ],
      "outputs": [
        {
          "output_type": "display_data",
          "data": {
            "application/vnd.livy.statement-meta+json": {
              "spark_pool": "dlzstgsynspads",
              "session_id": 77,
              "statement_id": 41,
              "state": "finished",
              "livy_statement_state": "available",
              "queued_time": "2022-02-28T22:08:50.5438093Z",
              "session_start_time": null,
              "execution_start_time": "2022-02-28T22:08:50.8269271Z",
              "execution_finish_time": "2022-02-28T22:08:50.983439Z"
            },
            "text/plain": "StatementMeta(dlzstgsynspads, 77, 41, Finished, Available)"
          },
          "metadata": {}
        },
        {
          "output_type": "error",
          "ename": "NameError",
          "evalue": "name 'old_deltaTable' is not defined",
          "traceback": [
            "NameError: name 'old_deltaTable' is not defined",
            "Traceback (most recent call last):\n",
            "NameError: name 'old_deltaTable' is not defined\n"
          ]
        }
      ],
      "execution_count": 41,
      "metadata": {
        "jupyter": {
          "source_hidden": false,
          "outputs_hidden": false
        },
        "nteract": {
          "transient": {
            "deleting": false
          }
        }
      }
    },
    {
      "cell_type": "code",
      "source": [
        "olddt.history().show(20, 1000, False)"
      ],
      "outputs": [
        {
          "output_type": "display_data",
          "data": {
            "application/vnd.livy.statement-meta+json": {
              "spark_pool": "dlzstgsynspads",
              "session_id": 82,
              "statement_id": 8,
              "state": "finished",
              "livy_statement_state": "available",
              "queued_time": "2022-03-01T20:48:13.3789395Z",
              "session_start_time": null,
              "execution_start_time": "2022-03-01T20:48:13.5022756Z",
              "execution_finish_time": "2022-03-01T20:48:15.6259714Z"
            },
            "text/plain": "StatementMeta(dlzstgsynspads, 82, 8, Finished, Available)"
          },
          "metadata": {}
        },
        {
          "output_type": "stream",
          "name": "stdout",
          "text": [
            "+-------+-------------------+------+--------+---------+------------------------------------------------------------+----+--------+---------+-----------+--------------+-------------+--------------------------------------------------------------------------------------------------------------------------------------------------------------------------------------------------------------------+\n|version|          timestamp|userId|userName|operation|                                         operationParameters| job|notebook|clusterId|readVersion|isolationLevel|isBlindAppend|                                                                                                                                                                                                    operationMetrics|\n+-------+-------------------+------+--------+---------+------------------------------------------------------------+----+--------+---------+-----------+--------------+-------------+--------------------------------------------------------------------------------------------------------------------------------------------------------------------------------------------------------------------+\n|     10|2022-03-01 20:47:52|  null|    null|    MERGE|[predicate -> (oldData.`CustomerID` = newData.`CustomerID`)]|null|    null|     null|          9|          null|        false|[numTargetRowsCopied -> 0, numTargetRowsDeleted -> 0, numTargetFilesAdded -> 200, numTargetRowsInserted -> 0, numTargetRowsUpdated -> 847, numOutputRows -> 847, numSourceRows -> 847, numTargetFilesRemoved -> 200]|\n|      9|2022-02-28 21:55:15|  null|    null|    MERGE|[predicate -> (oldData.`CustomerID` = newData.`CustomerID`)]|null|    null|     null|          8|          null|        false|[numTargetRowsCopied -> 0, numTargetRowsDeleted -> 0, numTargetFilesAdded -> 200, numTargetRowsInserted -> 0, numTargetRowsUpdated -> 847, numOutputRows -> 847, numSourceRows -> 847, numTargetFilesRemoved -> 200]|\n|      8|2022-02-28 21:28:31|  null|    null|    MERGE|[predicate -> (oldData.`CustomerID` = newData.`CustomerID`)]|null|    null|     null|          7|          null|        false|[numTargetRowsCopied -> 0, numTargetRowsDeleted -> 0, numTargetFilesAdded -> 200, numTargetRowsInserted -> 0, numTargetRowsUpdated -> 847, numOutputRows -> 847, numSourceRows -> 847, numTargetFilesRemoved -> 200]|\n|      7|2022-02-28 21:27:36|  null|    null|    MERGE|[predicate -> (oldData.`CustomerID` = newData.`CustomerID`)]|null|    null|     null|          6|          null|        false|[numTargetRowsCopied -> 0, numTargetRowsDeleted -> 0, numTargetFilesAdded -> 200, numTargetRowsInserted -> 0, numTargetRowsUpdated -> 847, numOutputRows -> 847, numSourceRows -> 847, numTargetFilesRemoved -> 200]|\n|      6|2022-02-28 21:25:55|  null|    null|    MERGE|[predicate -> (oldData.`CustomerID` = newData.`CustomerID`)]|null|    null|     null|          5|          null|        false|[numTargetRowsCopied -> 0, numTargetRowsDeleted -> 0, numTargetFilesAdded -> 200, numTargetRowsInserted -> 0, numTargetRowsUpdated -> 847, numOutputRows -> 847, numSourceRows -> 847, numTargetFilesRemoved -> 200]|\n|      5|2022-02-28 06:23:16|  null|    null|    MERGE|[predicate -> (newData.`CustomerID` = oldData.`CustomerID`)]|null|    null|     null|          4|          null|        false|[numTargetRowsCopied -> 0, numTargetRowsDeleted -> 0, numTargetFilesAdded -> 200, numTargetRowsInserted -> 0, numTargetRowsUpdated -> 847, numOutputRows -> 847, numSourceRows -> 847, numTargetFilesRemoved -> 200]|\n|      4|2022-02-28 06:13:43|  null|    null|    MERGE|[predicate -> (oldData.`CustomerID` = newData.`CustomerID`)]|null|    null|     null|          3|          null|        false|[numTargetRowsCopied -> 0, numTargetRowsDeleted -> 0, numTargetFilesAdded -> 200, numTargetRowsInserted -> 0, numTargetRowsUpdated -> 847, numOutputRows -> 847, numSourceRows -> 847, numTargetFilesRemoved -> 200]|\n|      3|2022-02-28 03:39:06|  null|    null|    MERGE|[predicate -> (oldData.`CustomerID` = newData.`CustomerID`)]|null|    null|     null|          2|          null|        false|[numTargetRowsCopied -> 0, numTargetRowsDeleted -> 0, numTargetFilesAdded -> 200, numTargetRowsInserted -> 0, numTargetRowsUpdated -> 847, numOutputRows -> 847, numSourceRows -> 847, numTargetFilesRemoved -> 200]|\n|      2|2022-02-28 03:38:09|  null|    null|    MERGE|[predicate -> (newData.`CustomerID` = oldData.`CustomerID`)]|null|    null|     null|          1|          null|        false|[numTargetRowsCopied -> 0, numTargetRowsDeleted -> 0, numTargetFilesAdded -> 200, numTargetRowsInserted -> 0, numTargetRowsUpdated -> 847, numOutputRows -> 847, numSourceRows -> 847, numTargetFilesRemoved -> 200]|\n|      1|2022-02-28 03:34:06|  null|    null|    MERGE|[predicate -> (oldData.`CustomerID` = newData.`CustomerID`)]|null|    null|     null|          0|          null|        false|  [numTargetRowsCopied -> 0, numTargetRowsDeleted -> 0, numTargetFilesAdded -> 200, numTargetRowsInserted -> 0, numTargetRowsUpdated -> 847, numOutputRows -> 847, numSourceRows -> 847, numTargetFilesRemoved -> 1]|\n|      0|2022-02-28 03:33:05|  null|    null|    WRITE|                  [mode -> ErrorIfExists, partitionBy -> []]|null|    null|     null|       null|          null|         true|                                                                                                                                                      [numFiles -> 1, numOutputBytes -> 89560, numOutputRows -> 847]|\n+-------+-------------------+------+--------+---------+------------------------------------------------------------+----+--------+---------+-----------+--------------+-------------+--------------------------------------------------------------------------------------------------------------------------------------------------------------------------------------------------------------------+"
          ]
        }
      ],
      "execution_count": 8,
      "metadata": {
        "jupyter": {
          "source_hidden": false,
          "outputs_hidden": false
        },
        "nteract": {
          "transient": {
            "deleting": false
          }
        }
      }
    },
    {
      "cell_type": "code",
      "source": [
        "#########################\r\n",
        "#NOTE -> This is an alternate way of upserting into delta table. Using manual method of getting each column required from the schema / dataframe and then creating a dictionary to use for the upsert.\r\n",
        "#           Currently not using this however it does work. Would advise to change the script to just create a dictionary and insert that instead of creating a string to convert into a dict.\r\n",
        "#########################\r\n",
        "#from delta.tables import *\r\n",
        "#df = spark.read.load(Source, format='parquet')\r\n",
        "#updatecols = []\r\n",
        "#insertcols = []\r\n",
        "#for col in schema:\r\n",
        "#    updatecols.append(col.COLUMN_NAME)\r\n",
        "#\r\n",
        "#for col in df.dtypes:\r\n",
        "#    insertcols.append(col[0])\r\n",
        "#\r\n",
        "#creating a string to be converted to dictionary \r\n",
        "#note -> can easily re-write this as just a dictionary if end up using this method.\r\n",
        "#updatestring = '{'\r\n",
        "#insertstring = '{'\r\n",
        "#\r\n",
        "#Go through each column in the schema to check what needs to be updated\r\n",
        "#for col in updatecols:\r\n",
        "#    updatestring = updatestring + '\"' + col + '\": \"newData.' + col +'\", '\r\n",
        "#updatestring = updatestring[:-2]\r\n",
        "#updatestring = updatestring + '}'\r\n",
        "#\r\n",
        "#Go through the new data to check what columns need to be inserted\r\n",
        "#for col in insertcols:\r\n",
        "#    insertstring = insertstring + '\"' + col + '\": \"newData.' + col +'\", '\r\n",
        "#insertstring = insertstring[:-2]\r\n",
        "#insertstring = insertstring + '}'\r\n",
        "#\r\n",
        "#print(updatestring)\r\n",
        "#print(insertstring)\r\n",
        "#\r\n",
        "#convert to dict\r\n",
        "#res = json.loads(updatestring)\r\n",
        "#res2 = json.loads(insertstring)\r\n",
        "#\r\n",
        "#sql = 'describe detail \"' + Target + '\"'\r\n",
        "#try:\r\n",
        "#    if (spark.sql(sql).collect()[0].asDict()['format'] == 'delta'):\r\n",
        "#        print(\"Table already exists. Performing Merge\")\r\n",
        "#        olddt = DeltaTable.forPath(spark, Target)  \r\n",
        "#        olddt.alias(\"oldData\").merge(\r\n",
        "#            df.alias(\"newData\"),\r\n",
        "#            mergeCondition) \\\r\n",
        "#        .whenMatchedUpdate(set = res) \\\r\n",
        "#        .whenNotMatchedInsert(values = res2) \\\r\n",
        "#        .execute()\r\n",
        "#except:\r\n",
        "#    print(\"Table does not exist.\")    \r\n",
        "#    df.write.format(\"delta\").save(Target)"
      ],
      "outputs": [
        {
          "output_type": "display_data",
          "data": {
            "application/vnd.livy.statement-meta+json": {
              "spark_pool": "dlzstgsynspads",
              "session_id": 82,
              "statement_id": 7,
              "state": "finished",
              "livy_statement_state": "available",
              "queued_time": "2022-03-01T20:47:22.8221283Z",
              "session_start_time": null,
              "execution_start_time": "2022-03-01T20:47:23.0602668Z",
              "execution_finish_time": "2022-03-01T20:48:02.5525496Z"
            },
            "text/plain": "StatementMeta(dlzstgsynspads, 82, 7, Finished, Available)"
          },
          "metadata": {}
        },
        {
          "output_type": "stream",
          "name": "stdout",
          "text": [
            "{\"CustomerID\": \"newData.CustomerID\", \"NameStyle\": \"newData.NameStyle\", \"Title\": \"newData.Title\", \"FirstName\": \"newData.FirstName\", \"MiddleName\": \"newData.MiddleName\", \"LastName\": \"newData.LastName\", \"Suffix\": \"newData.Suffix\", \"CompanyName\": \"newData.CompanyName\", \"SalesPerson\": \"newData.SalesPerson\", \"EmailAddress\": \"newData.EmailAddress\", \"Phone\": \"newData.Phone\", \"PasswordHash\": \"newData.PasswordHash\", \"PasswordSalt\": \"newData.PasswordSalt\", \"rowguid\": \"newData.rowguid\", \"ModifiedDate\": \"newData.ModifiedDate\"}\n{\"CustomerID\": \"newData.CustomerID\", \"NameStyle\": \"newData.NameStyle\", \"Title\": \"newData.Title\", \"FirstName\": \"newData.FirstName\", \"MiddleName\": \"newData.MiddleName\", \"LastName\": \"newData.LastName\", \"Suffix\": \"newData.Suffix\", \"CompanyName\": \"newData.CompanyName\", \"SalesPerson\": \"newData.SalesPerson\", \"EmailAddress\": \"newData.EmailAddress\", \"Phone\": \"newData.Phone\", \"PasswordHash\": \"newData.PasswordHash\", \"PasswordSalt\": \"newData.PasswordSalt\", \"rowguid\": \"newData.rowguid\", \"ModifiedDate\": \"newData.ModifiedDate\"}\nTable already exists. Performing Merge"
          ]
        }
      ],
      "execution_count": 7,
      "metadata": {
        "jupyter": {
          "source_hidden": false,
          "outputs_hidden": false
        },
        "nteract": {
          "transient": {
            "deleting": false
          }
        }
      }
    }
  ],
  "metadata": {
    "kernelspec": {
      "name": "synapse_pyspark",
      "language": "Python",
      "display_name": "Synapse PySpark"
    },
    "language_info": {
      "name": "python"
    },
    "kernel_info": {
      "name": "synapse_pyspark"
    },
    "description": null,
    "save_output": true,
    "synapse_widget": {
      "version": "0.1",
      "state": {}
    }
  },
  "nbformat": 4,
  "nbformat_minor": 2
}