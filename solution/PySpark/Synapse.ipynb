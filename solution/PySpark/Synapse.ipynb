{
  "cells": [
    {
      "cell_type": "code",
      "execution_count": 48,
      "metadata": {
        "tags": [
          "parameters"
        ]
      },
      "outputs": [
        {
          "data": {
            "application/vnd.livy.statement-meta+json": {
              "execution_finish_time": "2022-01-30T06:52:06.8331387Z",
              "execution_start_time": "2022-01-30T06:52:06.6739693Z",
              "livy_statement_state": "available",
              "queued_time": "2022-01-30T06:52:06.5635532Z",
              "session_id": 6,
              "session_start_time": null,
              "spark_pool": "mststgsynspads",
              "state": "finished",
              "statement_id": 50
            },
            "text/plain": [
              "StatementMeta(mststgsynspads, 6, 50, Finished, Available)"
            ]
          },
          "metadata": {},
          "output_type": "display_data"
        }
      ],
      "source": [
        "import random\n",
        "import json\n",
        "from pyspark.sql import Row\n",
        "from pyspark.sql.types import *\n",
        "from pyspark.sql.functions import *\n",
        "session_id = random.randint(0,1000000)\n",
        "\n",
        "TaskObject = '''    {\n",
        "        \"TaskInstanceId\": 20,\n",
        "        \"TaskMasterId\": -2,\n",
        "        \"TaskStatus\": \"InProgress\",\n",
        "        \"TaskType\": \"Azure Storage to SQL Database\",\n",
        "        \"Enabled\": 1,\n",
        "        \"ExecutionUid\": \"b829721c-f297-49eb-8436-c33e27005971\",\n",
        "        \"NumberOfRetries\": 0,\n",
        "        \"DegreeOfCopyParallelism\": 1,\n",
        "        \"KeyVaultBaseUrl\": \"https://mst-stg-kv-ads-pnu0.vault.azure.net/\",\n",
        "        \"ScheduleMasterId\": \"4\",\n",
        "        \"TaskGroupConcurrency\": \"10\",\n",
        "        \"TaskGroupPriority\": 0,\n",
        "        \"TaskExecutionType\": \"ADF\",\n",
        "        \"DataFactory\": {\n",
        "            \"Id\": 1,\n",
        "            \"Name\": \"mst-stg-adf-ads-pnu0\",\n",
        "            \"ResourceGroup\": \"adsgftera2\",\n",
        "            \"SubscriptionId\": \"035a1364-f00d-48e2-b582-4fe125905ee3\",\n",
        "            \"ADFPipeline\": \"GPL_AzureBlobFS_Parquet_AzureSqlTable_NA_Azure\",\n",
        "            \"TaskDatafactoryIR\": \"Azure\"\n",
        "        },\n",
        "        \"Source\": {\n",
        "            \"System\": {\n",
        "                \"SystemId\": 4,\n",
        "                \"SystemServer\": \"https://mststgdlsadspnu0adsl.dfs.core.windows.net\",\n",
        "                \"AuthenticationType\": \"MSI\",\n",
        "                \"Type\": \"ADLS\",\n",
        "                \"Username\": null,\n",
        "                \"Container\": \"datalakeraw\"\n",
        "            },\n",
        "            \"Instance\": {\n",
        "                \"SourceRelativePath\": \"samples/\"\n",
        "            },\n",
        "            \"DataFileName\": \"SalesLT.Customer.chunk_1.parquet\",\n",
        "            \"DeleteAfterCompletion\": \"false\",\n",
        "            \"MaxConcurrentConnections\": 0,\n",
        "            \"Recursively\": \"false\",\n",
        "            \"RelativePath\": \"samples/\",\n",
        "            \"Type\": \"Parquet\"\n",
        "        },\n",
        "        \"Target\": {\n",
        "            \"System\": {\n",
        "                \"SystemId\": 4,\n",
        "                \"SystemServer\": \"https://mststgdlsadspnu0adsl.dfs.core.windows.net\",\n",
        "                \"AuthenticationType\": \"MSI\",\n",
        "                \"Type\": \"ADLS\",\n",
        "                \"Username\": null,\n",
        "                \"Container\": \"datalakeraw\"\n",
        "            },\n",
        "            \"Instance\": {\n",
        "                \"SourceRelativePath\": \"deltalake/samples/2021/02/23\"\n",
        "            },\n",
        "            \"DataFileName\": \"SalesLT-Customer-Delta\",\n",
        "            \"DeleteAfterCompletion\": \"false\",\n",
        "            \"MaxConcurrentConnections\": 0,\n",
        "            \"Recursively\": \"false\",\n",
        "            \"RelativePath\": \"deltalake/samples/yyyy/mm/dd\",\n",
        "            \"Type\": \"Delta\"\n",
        "        }\n",
        "    }'''\n"
      ]
    },
    {
      "cell_type": "code",
      "execution_count": 49,
      "metadata": {
        "jupyter": {
          "outputs_hidden": false,
          "source_hidden": false
        },
        "nteract": {
          "transient": {
            "deleting": false
          }
        }
      },
      "outputs": [
        {
          "data": {
            "application/vnd.livy.statement-meta+json": {
              "execution_finish_time": "2022-01-30T06:52:36.1473039Z",
              "execution_start_time": "2022-01-30T06:52:35.9853277Z",
              "livy_statement_state": "available",
              "queued_time": "2022-01-30T06:52:35.8865705Z",
              "session_id": 6,
              "session_start_time": null,
              "spark_pool": "mststgsynspads",
              "state": "finished",
              "statement_id": 51
            },
            "text/plain": [
              "StatementMeta(mststgsynspads, 6, 51, Finished, Available)"
            ]
          },
          "metadata": {},
          "output_type": "display_data"
        },
        {
          "name": "stdout",
          "output_type": "stream",
          "text": [
            "abfss://datalakeraw@mststgdlsadspnu0adsl.dfs.core.windows.net/samples//SalesLT.Customer.chunk_1.parquet\n",
            "abfss://datalakeraw@mststgdlsadspnu0adsl.dfs.core.windows.net/deltalake/samples//SalesLT-Customer-Delta"
          ]
        }
      ],
      "source": [
        "\n",
        "TaskObjectJson = json.loads(TaskObject)\n",
        "Source = TaskObjectJson['Source']['System']['Container'] + \"@\" + TaskObjectJson['Source']['System']['SystemServer'].replace(\"https://\",\"\") + \"/\"\n",
        "Target = TaskObjectJson['Target']['System']['Container'] + \"@\" + TaskObjectJson['Target']['System']['SystemServer'].replace(\"https://\",\"\") + \"/\"\n",
        "\n",
        "Source = Source + TaskObjectJson['Source']['RelativePath'] + \"/\" + TaskObjectJson['Source']['DataFileName']\n",
        "Target = Target + TaskObjectJson['Target']['RelativePath'] + \"/\" + TaskObjectJson['Target']['DataFileName']\n",
        "\n",
        "#remove any double slashes\n",
        "Source.replace('//', '')\n",
        "TargetContainer.replace('//', '')\n",
        "\n",
        "#add abfss\n",
        "Source = \"abfss://\" + Source\n",
        "Target = \"abfss://\" + Target\n",
        "\n",
        "print (Source)\n",
        "print (Target)\n"
      ]
    },
    {
      "cell_type": "code",
      "execution_count": 66,
      "metadata": {
        "jupyter": {
          "outputs_hidden": false,
          "source_hidden": false
        },
        "nteract": {
          "transient": {
            "deleting": false
          }
        }
      },
      "outputs": [
        {
          "data": {
            "application/vnd.livy.statement-meta+json": {
              "execution_finish_time": "2022-01-30T07:24:45.178489Z",
              "execution_start_time": "2022-01-30T07:24:13.9553966Z",
              "livy_statement_state": "available",
              "queued_time": "2022-01-30T07:24:13.6709259Z",
              "session_id": 6,
              "session_start_time": null,
              "spark_pool": "mststgsynspads",
              "state": "finished",
              "statement_id": 68
            },
            "text/plain": [
              "StatementMeta(mststgsynspads, 6, 68, Finished, Available)"
            ]
          },
          "metadata": {},
          "output_type": "display_data"
        },
        {
          "name": "stdout",
          "output_type": "stream",
          "text": [
            "Table already exists. Performing Merge"
          ]
        }
      ],
      "source": [
        "from delta.tables import *\n",
        "df = spark.read.load(Source, format='parquet')\n",
        "sql = 'describe detail \"' + Target + '\"'\n",
        "if (spark.sql(sql).collect()[0].asDict()['format'] == 'delta'):\n",
        "    print(\"Table already exists. Performing Merge\")\n",
        "    olddt = DeltaTable.forPath(spark, Target)\n",
        "    (olddt\n",
        "    .alias(\"oldData\") \n",
        "    .merge(df.alias(\"newData\"), \"oldData.CustomerID = newData.CustomerID\")\n",
        "    .whenMatchedUpdate(set = {\"FirstName\": col(\"newData.FirstName\")})\n",
        "    .whenNotMatchedInsert(values = {\"CustomerID\": col(\"newData.CustomerID\"), \"FirstName\":\n",
        "                                    col(\"newData.FirstName\")})\n",
        "    .execute()\n",
        "    )\n",
        "else:\n",
        "    print(\"Table does not exist.\")    \n",
        "    df.write.format(\"delta\").save(Target)"
      ]
    },
    {
      "cell_type": "code",
      "execution_count": 67,
      "metadata": {
        "jupyter": {
          "outputs_hidden": false,
          "source_hidden": false
        },
        "nteract": {
          "transient": {
            "deleting": false
          }
        }
      },
      "outputs": [
        {
          "data": {
            "application/vnd.livy.statement-meta+json": {
              "execution_finish_time": "2022-01-30T07:25:48.0996087Z",
              "execution_start_time": "2022-01-30T07:25:45.3082354Z",
              "livy_statement_state": "available",
              "queued_time": "2022-01-30T07:25:45.2010536Z",
              "session_id": 6,
              "session_start_time": null,
              "spark_pool": "mststgsynspads",
              "state": "finished",
              "statement_id": 69
            },
            "text/plain": [
              "StatementMeta(mststgsynspads, 6, 69, Finished, Available)"
            ]
          },
          "metadata": {},
          "output_type": "display_data"
        },
        {
          "name": "stdout",
          "output_type": "stream",
          "text": [
            "+-------+-------------------+------+--------+---------+------------------------------------------------------------+----+--------+---------+-----------+--------------+-------------+------------------------------------------------------------------------------------------------------------------------------------------------------------------------------------------------------------------+\n",
            "|version|          timestamp|userId|userName|operation|                                         operationParameters| job|notebook|clusterId|readVersion|isolationLevel|isBlindAppend|                                                                                                                                                                                                  operationMetrics|\n",
            "+-------+-------------------+------+--------+---------+------------------------------------------------------------+----+--------+---------+-----------+--------------+-------------+------------------------------------------------------------------------------------------------------------------------------------------------------------------------------------------------------------------+\n",
            "|      1|2022-01-30 07:24:40|  null|    null|    MERGE|[predicate -> (oldData.`CustomerID` = newData.`CustomerID`)]|null|    null|     null|          0|          null|        false|[numTargetRowsCopied -> 0, numTargetRowsDeleted -> 0, numTargetFilesAdded -> 200, numTargetRowsInserted -> 0, numTargetRowsUpdated -> 847, numOutputRows -> 847, numSourceRows -> 847, numTargetFilesRemoved -> 1]|\n",
            "|      0|2022-01-30 06:53:10|  null|    null|    WRITE|                  [mode -> ErrorIfExists, partitionBy -> []]|null|    null|     null|       null|          null|         true|                                                                                                                                                    [numFiles -> 1, numOutputBytes -> 89560, numOutputRows -> 847]|\n",
            "+-------+-------------------+------+--------+---------+------------------------------------------------------------+----+--------+---------+-----------+--------------+-------------+------------------------------------------------------------------------------------------------------------------------------------------------------------------------------------------------------------------+"
          ]
        }
      ],
      "source": [
        "\n",
        "olddt.history().show(20, 1000, False)\n",
        "\n",
        "#spark.sql(\"CREATE TABLE SalesLTCustomer USING DELTA LOCATION '{0}'\".format(TargetFile))"
      ]
    },
    {
      "cell_type": "code",
      "execution_count": null,
      "metadata": {
        "jupyter": {
          "outputs_hidden": false,
          "source_hidden": false
        },
        "nteract": {
          "transient": {
            "deleting": false
          }
        }
      },
      "outputs": [],
      "source": [
        "# Execute Upsert\n",
        "(old_deltaTable\n",
        " .alias(\"oldData\") \n",
        " .merge(newIncrementalData.alias(\"newData\"), \"oldData.id = newData.id\")\n",
        " .whenMatchedUpdate(set = {\"name\": col(\"newData.name\")})\n",
        " .whenNotMatchedInsert(values = {\"id\": col(\"newData.id\"), \"name\":\n",
        "                                col(\"newData.name\")})\n",
        " .execute()\n",
        ")\n",
        "\n",
        "# Display the records to check if the records are Merged\n",
        "display(spark.read.format(\"delta\").load(\"/data/events_old/\"))"
      ]
    }
  ],
  "metadata": {
    "kernel_info": {
      "name": "synapse_pyspark"
    },
    "kernelspec": {
      "display_name": "Synapse PySpark",
      "language": "Python",
      "name": "synapse_pyspark"
    },
    "language_info": {
      "name": "python"
    },
    "save_output": true,
    "synapse_widget": {
      "state": {},
      "version": "0.1"
    }
  },
  "nbformat": 4,
  "nbformat_minor": 2
}
